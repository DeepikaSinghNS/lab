{
 "cells": [
  {
   "cell_type": "code",
   "execution_count": 4,
   "id": "34939616",
   "metadata": {},
   "outputs": [
    {
     "name": "stdout",
     "output_type": "stream",
     "text": [
      "The first 5 Values of data is :\n",
      "    6  148  72  35    0  33.6  0.627  50  1\n",
      "0  1   85  66  29    0  26.6  0.351  31  0\n",
      "1  8  183  64   0    0  23.3  0.672  32  1\n",
      "2  1   89  66  23   94  28.1  0.167  21  0\n",
      "3  0  137  40  35  168  43.1  2.288  33  1\n",
      "4  5  116  74   0    0  25.6  0.201  30  0\n",
      "\n",
      "The First 5 values of the train data is\n",
      "    6  148  72  35    0  33.6  0.627  50\n",
      "0  1   85  66  29    0  26.6  0.351  31\n",
      "1  8  183  64   0    0  23.3  0.672  32\n",
      "2  1   89  66  23   94  28.1  0.167  21\n",
      "3  0  137  40  35  168  43.1  2.288  33\n",
      "4  5  116  74   0    0  25.6  0.201  30\n",
      "\n",
      "The First 5 values of train output is\n",
      " 0    0\n",
      "1    1\n",
      "2    0\n",
      "3    1\n",
      "4    0\n",
      "Name: 1, dtype: int64\n"
     ]
    },
    {
     "ename": "AttributeError",
     "evalue": "'DataFrame' object has no attribute 'Outlook'",
     "output_type": "error",
     "traceback": [
      "\u001b[1;31m---------------------------------------------------------------------------\u001b[0m",
      "\u001b[1;31mAttributeError\u001b[0m                            Traceback (most recent call last)",
      "Cell \u001b[1;32mIn[4], line 20\u001b[0m\n\u001b[0;32m     18\u001b[0m \u001b[38;5;66;03m# convert them in numbers\u001b[39;00m\n\u001b[0;32m     19\u001b[0m le_outlook \u001b[38;5;241m=\u001b[39m LabelEncoder()\n\u001b[1;32m---> 20\u001b[0m X\u001b[38;5;241m.\u001b[39mOutlook \u001b[38;5;241m=\u001b[39m le_outlook\u001b[38;5;241m.\u001b[39mfit_transform(\u001b[43mX\u001b[49m\u001b[38;5;241;43m.\u001b[39;49m\u001b[43mOutlook\u001b[49m)\n\u001b[0;32m     22\u001b[0m le_Temperature \u001b[38;5;241m=\u001b[39m LabelEncoder()\n\u001b[0;32m     23\u001b[0m X\u001b[38;5;241m.\u001b[39mTemperature \u001b[38;5;241m=\u001b[39m le_Temperature\u001b[38;5;241m.\u001b[39mfit_transform(X\u001b[38;5;241m.\u001b[39mTemperature)\n",
      "File \u001b[1;32mD:\\Anaconda\\lib\\site-packages\\pandas\\core\\generic.py:5902\u001b[0m, in \u001b[0;36mNDFrame.__getattr__\u001b[1;34m(self, name)\u001b[0m\n\u001b[0;32m   5895\u001b[0m \u001b[38;5;28;01mif\u001b[39;00m (\n\u001b[0;32m   5896\u001b[0m     name \u001b[38;5;129;01mnot\u001b[39;00m \u001b[38;5;129;01min\u001b[39;00m \u001b[38;5;28mself\u001b[39m\u001b[38;5;241m.\u001b[39m_internal_names_set\n\u001b[0;32m   5897\u001b[0m     \u001b[38;5;129;01mand\u001b[39;00m name \u001b[38;5;129;01mnot\u001b[39;00m \u001b[38;5;129;01min\u001b[39;00m \u001b[38;5;28mself\u001b[39m\u001b[38;5;241m.\u001b[39m_metadata\n\u001b[0;32m   5898\u001b[0m     \u001b[38;5;129;01mand\u001b[39;00m name \u001b[38;5;129;01mnot\u001b[39;00m \u001b[38;5;129;01min\u001b[39;00m \u001b[38;5;28mself\u001b[39m\u001b[38;5;241m.\u001b[39m_accessors\n\u001b[0;32m   5899\u001b[0m     \u001b[38;5;129;01mand\u001b[39;00m \u001b[38;5;28mself\u001b[39m\u001b[38;5;241m.\u001b[39m_info_axis\u001b[38;5;241m.\u001b[39m_can_hold_identifiers_and_holds_name(name)\n\u001b[0;32m   5900\u001b[0m ):\n\u001b[0;32m   5901\u001b[0m     \u001b[38;5;28;01mreturn\u001b[39;00m \u001b[38;5;28mself\u001b[39m[name]\n\u001b[1;32m-> 5902\u001b[0m \u001b[38;5;28;01mreturn\u001b[39;00m \u001b[38;5;28;43mobject\u001b[39;49m\u001b[38;5;241;43m.\u001b[39;49m\u001b[38;5;21;43m__getattribute__\u001b[39;49m\u001b[43m(\u001b[49m\u001b[38;5;28;43mself\u001b[39;49m\u001b[43m,\u001b[49m\u001b[43m \u001b[49m\u001b[43mname\u001b[49m\u001b[43m)\u001b[49m\n",
      "\u001b[1;31mAttributeError\u001b[0m: 'DataFrame' object has no attribute 'Outlook'"
     ]
    }
   ],
   "source": [
    "# import necessary libraries\n",
    "import pandas as pd\n",
    "from sklearn import tree\n",
    "from sklearn.preprocessing import LabelEncoder\n",
    "from sklearn.naive_bayes import GaussianNB\n",
    "\n",
    "# Load Data from CSV\n",
    "data = pd.read_csv('diabetes2.csv')\n",
    "print(\"The first 5 Values of data is :\\n\", data.head())\n",
    "\n",
    "# obtain train data and train output\n",
    "X = data.iloc[:, :-1]\n",
    "print(\"\\nThe First 5 values of the train data is\\n\", X.head())\n",
    "\n",
    "y = data.iloc[:, -1]\n",
    "print(\"\\nThe First 5 values of train output is\\n\", y.head())\n",
    "\n",
    "# convert them in numbers\n",
    "le_outlook = LabelEncoder()\n",
    "X.Outlook = le_outlook.fit_transform(X.Outlook)\n",
    "\n",
    "le_Temperature = LabelEncoder()\n",
    "X.Temperature = le_Temperature.fit_transform(X.Temperature)\n",
    "\n",
    "le_Humidity = LabelEncoder()\n",
    "X.Humidity = le_Humidity.fit_transform(X.Humidity)\n",
    "\n",
    "le_Windy = LabelEncoder()\n",
    "X.Windy = le_Windy.fit_transform(X.Windy)\n",
    "\n",
    "print(\"\\nNow the Train output is\\n\", X.head())\n",
    "\n",
    "le_PlayTennis = LabelEncoder()\n",
    "y = le_PlayTennis.fit_transform(y)\n",
    "print(\"\\nNow the Train output is\\n\",y)\n",
    "\n",
    "from sklearn.model_selection import train_test_split\n",
    "X_train, X_test, y_train, y_test = train_test_split(X,y, test_size = 0.20)\n",
    "\n",
    "classifier = GaussianNB()\n",
    "classifier.fit(X_train, y_train)\n",
    "\n",
    "from sklearn.metrics import accuracy_score\n",
    "print(\"Accuracy is:\", accuracy_score(classifier.predict(X_test), y_test))"
   ]
  },
  {
   "cell_type": "code",
   "execution_count": 3,
   "id": "1b84b513",
   "metadata": {},
   "outputs": [
    {
     "name": "stdout",
     "output_type": "stream",
     "text": [
      "The given data belong to Female with Probability of  0.00013444772959075044\n"
     ]
    }
   ],
   "source": [
    "import pandas as pd \n",
    "import numpy as np \n",
    "\n",
    "data = pd.DataFrame(data=pd.read_csv('Human.csv'))\n",
    "person = pd.DataFrame(data=pd.read_csv('Person.csv'))\n",
    "\n",
    "n_male = data['Gender'][data['Gender']=='male'].count()\n",
    "n_female = data['Gender'][data['Gender']=='female'].count()\n",
    "total_ppl = data['Gender'].count()\n",
    "\n",
    "P_male = n_male/total_ppl\n",
    "P_female = n_female/total_ppl\n",
    "\n",
    "data_mean = data.groupby('Gender').mean()\n",
    "data_variance = data.groupby('Gender').var()\n",
    "\n",
    "male_height_mean = data_mean['Height'][data_variance.index == 'male'].values[0]\n",
    "male_weight_mean = data_mean['Weight'][data_variance.index == 'male'].values[0]\n",
    "male_footsize_mean = data_mean['Foot_Size'][data_variance.index == 'male'].values[0]\n",
    "\n",
    "male_height_variance = data_variance['Height'][data_variance.index == 'male'].values[0]\n",
    "male_weight_variance = data_variance['Weight'][data_variance.index == 'male'].values[0]\n",
    "male_footsize_variance = data_variance['Foot_Size'][data_variance.index == 'male'].values[0]\n",
    "\n",
    "female_height_mean = data_mean['Height'][data_variance.index == 'female'].values[0]\n",
    "female_weight_mean = data_mean['Weight'][data_variance.index == 'female'].values[0]\n",
    "female_footsize_mean = data_mean['Foot_Size'][data_variance.index == 'female'].values[0]\n",
    "\n",
    "female_height_variance = data_variance['Height'][data_variance.index == 'female'].values[0]\n",
    "female_weight_variance = data_variance['Weight'][data_variance.index == 'female'].values[0]\n",
    "female_footsize_variance = data_variance['Foot_Size'][data_variance.index == 'female'].values[0]\n",
    "\n",
    "def p_x_given_y(x,mean_y,variance_y):\n",
    "    p = 1/(np.sqrt(2*np.pi*variance_y))*np.exp((-(x-mean_y)**2)/(2*variance_y))\n",
    "    return p\n",
    "\n",
    "PMale = P_male*p_x_given_y(person['Height'][0],male_height_mean,male_height_variance)*P_male*p_x_given_y(person['Weight'][0],male_weight_mean,male_weight_variance)*P_male*p_x_given_y(person['Foot_Size'][0],male_footsize_mean,male_footsize_variance)\n",
    "PFemale = P_female*p_x_given_y(person['Height'][0],female_height_mean,female_height_variance)*P_female*p_x_given_y(person['Weight'][0],female_weight_mean,female_weight_variance)*P_female*p_x_given_y(person['Foot_Size'][0],female_footsize_mean,female_footsize_variance)\n",
    "\n",
    "if (PMale>PFemale):\n",
    "    print(\"The given data belong to Male with Probability of \",PMale)\n",
    "else:\n",
    "    print(\"The given data belong to Female with Probability of \",PFemale)"
   ]
  },
  {
   "cell_type": "code",
   "execution_count": null,
   "id": "f0d8d092",
   "metadata": {},
   "outputs": [],
   "source": []
  }
 ],
 "metadata": {
  "kernelspec": {
   "display_name": "Python 3 (ipykernel)",
   "language": "python",
   "name": "python3"
  },
  "language_info": {
   "codemirror_mode": {
    "name": "ipython",
    "version": 3
   },
   "file_extension": ".py",
   "mimetype": "text/x-python",
   "name": "python",
   "nbconvert_exporter": "python",
   "pygments_lexer": "ipython3",
   "version": "3.10.9"
  }
 },
 "nbformat": 4,
 "nbformat_minor": 5
}
